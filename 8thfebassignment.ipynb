{
 "cells": [
  {
   "cell_type": "markdown",
   "id": "ab35362a-12e1-4fbb-9ec9-f20e240ac7f9",
   "metadata": {},
   "source": [
    "Q1. What is Abstraction in OOps? Explain with an example.\n",
    "Ans-1) Objects are the building blocks of Object-Oriented Programming. An object contains some properties and methods. We can hide them from the outer world through access modifiers. We can provide access only for required functions and properties to the other programs. This is the general procedure to implement abstraction in OOPS.\n",
    "\n",
    " \n"
   ]
  },
  {
   "cell_type": "code",
   "execution_count": 1,
   "id": "ecb5bf72-c2b1-4a35-bc0f-5b88726fc0d7",
   "metadata": {},
   "outputs": [
    {
     "name": "stdout",
     "output_type": "stream",
     "text": [
      "I have 3 sides\n",
      "I have 4 sides\n",
      "I have 5 sides\n"
     ]
    }
   ],
   "source": [
    "\n",
    "\n",
    "# Python program showing\n",
    "# abstract base class work\n",
    " \n",
    "from abc import ABC, abstractmethod\n",
    " \n",
    "class Polygon(ABC):\n",
    " \n",
    "    @abstractmethod\n",
    "    def noofsides(self):\n",
    "        pass\n",
    "\n",
    "class Triangle(Polygon):\n",
    " \n",
    "    # overriding abstract method\n",
    "    def noofsides(self):\n",
    "        print(\"I have 3 sides\")\n",
    "\n",
    "class Pentagon(Polygon):\n",
    " \n",
    "    # overriding abstract method\n",
    "    def noofsides(self):\n",
    "        print(\"I have 5 sides\")\n",
    "\n",
    "class Hexagon(Polygon):\n",
    " \n",
    "    # overriding abstract method\n",
    "    def noofsides(self):\n",
    "        print(\"I have 6 sides\")\n",
    "\n",
    "class Quadrilateral(Polygon):\n",
    " \n",
    "    # overriding abstract method\n",
    "    def noofsides(self):\n",
    "        print(\"I have 4 sides\")\n",
    "\n",
    "# Driver code\n",
    "R = Triangle()\n",
    "R.noofsides()\n",
    " \n",
    "K = Quadrilateral()\n",
    "K.noofsides()\n",
    " \n",
    "R = Pentagon()\n",
    "R.noofsides()\n",
    " \n",
    "K = Hexagon()"
   ]
  },
  {
   "cell_type": "markdown",
   "id": "6549cc8b-d8db-4182-93fb-b7986fc95f38",
   "metadata": {},
   "source": [
    "Q2. Differentiate between Abstraction and Encapsulation. Explain with an example.\n",
    "Abstraction :- Abstraction is a way of hiding unnecessary information.\n",
    "\n",
    "An abstraction is a process or method of obtaining information.\n",
    "Abstractions solve problems at the design or interface level.\n",
    "The focus of abstraction is “what” to do.\n",
    "Abstract classes and interfaces can be used to implement abstractions\n",
    "Abstractions allow access to specific pieces of data.\n",
    "Example:-\n",
    "\n",
    "However, users don’t know how their passwords are validated on the backend to protect their accounts. This is one of many real-world cases where encapsulation is used in the industry.\n",
    "Clicking on an icon allows the abstraction to perform a specific function. On clicking the icon, the backend process works and directs the user to the next step.\n",
    "Encapsulation :- Encapsulation is a way of hiding data in a single entity or unit and a way of protecting information from the outside world.\n",
    "\n",
    "Encapsulation is the process or method for containing information.\n",
    "During encapsulation, issues are resolved at the implementation level.\n",
    "The focus of encapsulation is “how” it should be done.\n",
    "Encapsulation can be implemented using access modifiers, i.e. private, protected, public.\n",
    "Encapsulation hides data from direct access by users (data hiding).\n",
    "Exaple:-\n",
    "\n",
    "In a particular project company, the various teams work like a functional team, a development team, a test team, a content team, and a project team to do other tasks. Let’s say the content team wants all the data about the development team. In this case, the data cannot be accessed directly. The content team should reach out to someone from the development team and ask them to provide the data. This is encapsulation. The data (project data + employee data) is grouped under one name, the “development team.”"
   ]
  },
  {
   "cell_type": "markdown",
   "id": "c721ef9a-6270-4478-bf8d-9e0e51d40031",
   "metadata": {},
   "source": [
    "Q3. What is abc module in python? Why is it used?\n",
    "Ans-)3 This module provides the infrastructure for defining abstract base classes (ABCs) in Python, as outlined in PEP 3119; see the PEP for why this was added to Python. (See also PEP 3141 and the numbers module regarding a type hierarchy for numbers based on ABCs.)\n",
    "\n",
    "A helper class that has ABCMeta as its metaclass. With this class, an abstract base class can be created by simply deriving from ABC avoiding sometimes confusing metaclass usage, for example:"
   ]
  },
  {
   "cell_type": "code",
   "execution_count": 2,
   "id": "ab82bc64-c400-4baa-a089-c395cb5006b4",
   "metadata": {},
   "outputs": [],
   "source": [
    "\n",
    "from abc import ABC\n",
    "\n",
    "class MyABC(ABC):\n",
    "    pass"
   ]
  },
  {
   "cell_type": "code",
   "execution_count": null,
   "id": "a3fd9fe4-2f45-4d90-a413-646fb0c611ad",
   "metadata": {},
   "outputs": [],
   "source": [
    "Q4. How can we achieve data abstraction?\n",
    "Ans-4) Data Abstraction in Python can be achieved through creating abstract classes and inheriting them later. Before discussing what abstract classes are, let us have a brief introduction of inheritance. Inheritance in OOP is a way through which one class inherits the attributes and methods of another class."
   ]
  }
 ],
 "metadata": {
  "kernelspec": {
   "display_name": "Python 3 (ipykernel)",
   "language": "python",
   "name": "python3"
  },
  "language_info": {
   "codemirror_mode": {
    "name": "ipython",
    "version": 3
   },
   "file_extension": ".py",
   "mimetype": "text/x-python",
   "name": "python",
   "nbconvert_exporter": "python",
   "pygments_lexer": "ipython3",
   "version": "3.10.8"
  }
 },
 "nbformat": 4,
 "nbformat_minor": 5
}
